{
 "cells": [
  {
   "cell_type": "markdown",
   "metadata": {},
   "source": [
    "# Text Classification using Naive Bayes"
   ]
  },
  {
   "cell_type": "markdown",
   "metadata": {},
   "source": [
    "## Libraries"
   ]
  },
  {
   "cell_type": "code",
   "execution_count": 1,
   "metadata": {},
   "outputs": [
    {
     "name": "stderr",
     "output_type": "stream",
     "text": [
      "\n",
      "Attaching package: 'dplyr'\n",
      "\n",
      "The following objects are masked from 'package:stats':\n",
      "\n",
      "    filter, lag\n",
      "\n",
      "The following objects are masked from 'package:base':\n",
      "\n",
      "    intersect, setdiff, setequal, union\n",
      "\n",
      "-- Attaching packages --------------------------------------- tidyverse 1.2.1 --\n",
      "v ggplot2 3.1.0     v readr   1.1.1\n",
      "v tibble  1.4.2     v purrr   0.2.5\n",
      "v tidyr   0.8.1     v stringr 1.3.1\n",
      "v ggplot2 3.1.0     v forcats 0.3.0\n",
      "-- Conflicts ------------------------------------------ tidyverse_conflicts() --\n",
      "x dplyr::filter()  masks stats::filter()\n",
      "x purrr::flatten() masks jsonlite::flatten()\n",
      "x dplyr::lag()     masks stats::lag()\n",
      "\n",
      "Attaching package: 'reshape'\n",
      "\n",
      "The following objects are masked from 'package:tidyr':\n",
      "\n",
      "    expand, smiths\n",
      "\n",
      "The following object is masked from 'package:dplyr':\n",
      "\n",
      "    rename\n",
      "\n",
      "Loading required package: qdapDictionaries\n",
      "Loading required package: qdapRegex\n",
      "\n",
      "Attaching package: 'qdapRegex'\n",
      "\n",
      "The following object is masked from 'package:ggplot2':\n",
      "\n",
      "    %+%\n",
      "\n",
      "The following object is masked from 'package:dplyr':\n",
      "\n",
      "    explain\n",
      "\n",
      "The following object is masked from 'package:jsonlite':\n",
      "\n",
      "    validate\n",
      "\n",
      "Loading required package: qdapTools\n",
      "\n",
      "Attaching package: 'qdapTools'\n",
      "\n",
      "The following object is masked from 'package:dplyr':\n",
      "\n",
      "    id\n",
      "\n",
      "Loading required package: RColorBrewer\n",
      "\n",
      "Attaching package: 'qdap'\n",
      "\n",
      "The following object is masked from 'package:reshape':\n",
      "\n",
      "    condense\n",
      "\n",
      "The following object is masked from 'package:forcats':\n",
      "\n",
      "    %>%\n",
      "\n",
      "The following object is masked from 'package:stringr':\n",
      "\n",
      "    %>%\n",
      "\n",
      "The following object is masked from 'package:purrr':\n",
      "\n",
      "    %>%\n",
      "\n",
      "The following object is masked from 'package:tidyr':\n",
      "\n",
      "    %>%\n",
      "\n",
      "The following object is masked from 'package:dplyr':\n",
      "\n",
      "    %>%\n",
      "\n",
      "The following object is masked from 'package:base':\n",
      "\n",
      "    Filter\n",
      "\n",
      "\n",
      "Attaching package: 'textclean'\n",
      "\n",
      "The following objects are masked from 'package:qdap':\n",
      "\n",
      "    check_text, mgsub, replace_contraction, replace_number,\n",
      "    replace_ordinal, replace_symbol, strip, sub_holder\n",
      "\n",
      "Loading required package: NLP\n",
      "\n",
      "Attaching package: 'NLP'\n",
      "\n",
      "The following object is masked from 'package:qdap':\n",
      "\n",
      "    ngrams\n",
      "\n",
      "The following object is masked from 'package:ggplot2':\n",
      "\n",
      "    annotate\n",
      "\n",
      "\n",
      "Attaching package: 'tm'\n",
      "\n",
      "The following objects are masked from 'package:qdap':\n",
      "\n",
      "    as.DocumentTermMatrix, as.TermDocumentMatrix\n",
      "\n",
      "Loading required package: lattice\n",
      "\n",
      "Attaching package: 'caret'\n",
      "\n",
      "The following object is masked from 'package:purrr':\n",
      "\n",
      "    lift\n",
      "\n",
      "\n",
      "Attaching package: 'stopwords'\n",
      "\n",
      "The following object is masked from 'package:tm':\n",
      "\n",
      "    stopwords\n",
      "\n"
     ]
    }
   ],
   "source": [
    "library(jsonlite)\n",
    "library(dplyr)\n",
    "library(formatR)\n",
    "library(tidyverse)\n",
    "library(reshape)\n",
    "library(qdap)\n",
    "library(textclean)\n",
    "library(tm)\n",
    "library(stringi)\n",
    "library(caret)\n",
    "library(e1071)\n",
    "library(stopwords)\n",
    "library(tokenizers)\n",
    "library(wordcloud)\n",
    "library(RColorBrewer)"
   ]
  },
  {
   "cell_type": "markdown",
   "metadata": {},
   "source": [
    "## Data Collection"
   ]
  },
  {
   "cell_type": "markdown",
   "metadata": {},
   "source": [
    "### Collect Data from 6 different sections"
   ]
  },
  {
   "cell_type": "code",
   "execution_count": 2,
   "metadata": {},
   "outputs": [
    {
     "name": "stdout",
     "output_type": "stream",
     "text": [
      "[1] \"Table containing BUSINESS  News\"\n",
      "  sectionName pillarName\n",
      "1    Business       News\n",
      "2    Business       News\n",
      "3    Business       News\n",
      "4    Business       News\n",
      "5    Business       News\n",
      "6    Business       News\n",
      "                                                                webTitle\n",
      "1 Number of US companies disclosing political donations reaches new high\n",
      "2        Royal Mail share price sinks further after profit warning shock\n",
      "3           Shell approves $12bn liquefied natural gas project in Canada\n",
      "4       Primera Air collapse: what are my rights and can I get a refund?\n",
      "5     Toyota says hard Brexit would halt UK plant as BMW warns over Mini\n",
      "6                   Why did £300 disappear from my John Lewis gift card?\n",
      "\n",
      "[1] \"Table containing POLITICS  News\"\n",
      "  sectionName pillarName\n",
      "1    Politics       News\n",
      "2    Politics       News\n",
      "3    Politics       News\n",
      "4    Politics       News\n",
      "5    Politics       News\n",
      "6    Politics       News\n",
      "                                                              webTitle\n",
      "1          Theresa May signals willingness to extend transition period\n",
      "2          Amendments on Brexit deal should be restricted – government\n",
      "3 Germany and France start to draw up no-deal Brexit contingency plans\n",
      "4          'Very good progress' on Brexit, May says at Brussels summit\n",
      "5    Sweet Jeremy rides to Brexit-broken Theresa's rescue | John Crace\n",
      "6 Fascists are like vampires. Let them in at your peril | Zoe Williams\n",
      "\n",
      "[1] \"Table containing SCIENCE  News\"\n",
      "  sectionName pillarName\n",
      "1     Science       News\n",
      "2     Science       News\n",
      "3     Science       News\n",
      "4     Science       News\n",
      "5     Science       News\n",
      "6     Science       News\n",
      "                                                                                  webTitle\n",
      "1  Laser scanning reveals 'lost' ancient Mexican city 'had as many buildings as Manhattan'\n",
      "2       Friends, Romans, naked wolf-men ... why an ancient festival is still controversial\n",
      "3                       The Royal Statistical Society Christmas quiz 2017: belated answers\n",
      "4                                Ultra-processed foods may be linked to cancer, says study\n",
      "5                            Transgender woman able to breastfeed in first documented case\n",
      "6 What fossils reveal about the spider family tree is far from horrifying | Susannah Lydon\n",
      "\n",
      "[1] \"Table containing TECHNOLOGY  News\"\n",
      "  sectionName pillarName\n",
      "1  Technology       News\n",
      "2  Technology       News\n",
      "3  Technology       News\n",
      "4  Technology       News\n",
      "5  Technology       News\n",
      "6  Technology       News\n",
      "                                                                             webTitle\n",
      "1                     Facebook chief's select committee session: five things we heard\n",
      "2                     Snapchat hopes for second time lucky with new Spectacles launch\n",
      "3 Facebook apologises for legal threats over Cambridge Analytica story – live updates\n",
      "4                      'Facebook is a morality-free zone’: tech chief lambasted by MP\n",
      "5                               I can’t afford to upgrade my Vista PC. What can I do?\n",
      "6            Facebook posts record revenues for first quarter despite privacy scandal\n",
      "\n",
      "[1] \"Table containing SPORT  News\"\n",
      "  sectionName pillarName\n",
      "1       Sport      Sport\n",
      "2       Sport      Sport\n",
      "3       Sport      Sport\n",
      "4       Sport      Sport\n",
      "5       Sport      Sport\n",
      "6       Sport      Sport\n",
      "                                                                          webTitle\n",
      "1      Cheika's call for belief falls on deaf ears while Wallabies repeat mistakes\n",
      "2            New Zealand’s coach Steve Hansen suggests 16-week off-seasons for all\n",
      "3 Elina Svitolina beats Sloane Stephens to claim WTA Finals crown – as it happened\n",
      "4  Jacksonville Jaguars players arrested in London over unpaid £50,000 drinks bill\n",
      "5                               Sportwatch: A-League and W-League – as it happened\n",
      "6     Lawyer calls for independent panel to analyse injury trends in English rugby\n",
      "\n",
      "[1] \"Table containing NEWS  News\"\n",
      "  sectionName pillarName\n",
      "1        News       News\n",
      "2        News       News\n",
      "3        News       News\n",
      "4        News       News\n",
      "5        News       News\n",
      "6        News       News\n",
      "                                                                        webTitle\n",
      "1                                                 Corrections and clarifications\n",
      "2  Hopes rise for release of Briton jailed in Iran after court hearing postponed\n",
      "3                                       This week’s corrections | For the record\n",
      "4 How can loyalty to leader and manifesto be a threat to Labour? | The big issue\n",
      "5                 Boris Johnson begins Iran talks over Nazanin Zaghari-Ratcliffe\n",
      "6         Zaghari-Ratcliffe's husband 'biting his nails' over Johnson Iran visit\n",
      "\n"
     ]
    }
   ],
   "source": [
    "api = 'https://content.guardianapis.com/search?'\n",
    "api_key = '0e9a8c4e-1866-4503-a9eb-70e391c499c4'\n",
    "page_size = '200'\n",
    "\n",
    "pages = c(1:5)\n",
    "\n",
    "queries = c('business','politics','science','technology','sport','news')\n",
    "\n",
    "news_data = data.frame()\n",
    "\n",
    "for(query in queries){\n",
    "  for (page in pages){\n",
    "    url = paste(api, 'section=', query, '&page-size=', page_size, '&page=', page, '&show-fields=body', '&api-key=', api_key, \n",
    "                sep = \"\")\n",
    "    json = fromJSON(url)\n",
    "    body = as.data.frame(json$response$results$fields)\n",
    "    json$response$results$fields = NULL\n",
    "    data = as.data.frame(json$response$results)\n",
    "    data = cbind(data,body)\n",
    "    news_data = rbind(news_data,data)\n",
    "  }\n",
    "  \n",
    "  select_data = select(data, c(\"sectionName\",\"pillarName\",\"webTitle\"))\n",
    "  print(paste(\"Table containing\",toupper(query),\" News\"))\n",
    "  print(head(select_data))\n",
    "  cat(\"\\n\")\n",
    "}"
   ]
  },
  {
   "cell_type": "markdown",
   "metadata": {},
   "source": [
    "### Display the summary of the collected data"
   ]
  },
  {
   "cell_type": "code",
   "execution_count": 3,
   "metadata": {},
   "outputs": [
    {
     "name": "stdout",
     "output_type": "stream",
     "text": [
      "[1] \"Table containing sections and their counts\"\n",
      "# A tibble: 6 x 2\n",
      "  sectionName     n\n",
      "  <chr>       <int>\n",
      "1 Business     1000\n",
      "2 News         1000\n",
      "3 Politics     1000\n",
      "4 Science      1000\n",
      "5 Sport        1000\n",
      "6 Technology   1000\n"
     ]
    }
   ],
   "source": [
    "count = news_data%>%\n",
    "  group_by(sectionName)%>%\n",
    "  tally\n",
    "print(\"Table containing sections and their counts\") \n",
    "print(count)"
   ]
  },
  {
   "cell_type": "code",
   "execution_count": 4,
   "metadata": {},
   "outputs": [
    {
     "name": "stdout",
     "output_type": "stream",
     "text": [
      "[1] \"Total Number of rows in News:  6000\"\n"
     ]
    }
   ],
   "source": [
    "print(paste(\"Total Number of rows in News: \",nrow(news_data)))"
   ]
  },
  {
   "cell_type": "code",
   "execution_count": 5,
   "metadata": {},
   "outputs": [
    {
     "data": {
      "text/plain": [
       "      id                type            sectionId         sectionName       \n",
       " Length:6000        Length:6000        Length:6000        Length:6000       \n",
       " Class :character   Class :character   Class :character   Class :character  \n",
       " Mode  :character   Mode  :character   Mode  :character   Mode  :character  \n",
       " webPublicationDate   webTitle            webUrl             apiUrl         \n",
       " Length:6000        Length:6000        Length:6000        Length:6000       \n",
       " Class :character   Class :character   Class :character   Class :character  \n",
       " Mode  :character   Mode  :character   Mode  :character   Mode  :character  \n",
       "  isHosted         pillarId          pillarName            body          \n",
       " Mode :logical   Length:6000        Length:6000        Length:6000       \n",
       " FALSE:6000      Class :character   Class :character   Class :character  \n",
       "                 Mode  :character   Mode  :character   Mode  :character  "
      ]
     },
     "metadata": {},
     "output_type": "display_data"
    }
   ],
   "source": [
    "summary(news_data)"
   ]
  },
  {
   "cell_type": "markdown",
   "metadata": {},
   "source": [
    "## Data Cleaning"
   ]
  },
  {
   "cell_type": "markdown",
   "metadata": {},
   "source": [
    "### Select the required columns from dataset"
   ]
  },
  {
   "cell_type": "code",
   "execution_count": 6,
   "metadata": {},
   "outputs": [],
   "source": [
    "news = news_data%>%\n",
    "  select ( c(\"id\", \"pillarName\", \"sectionId\",\"sectionName\", \"webTitle\", \"body\"))%>%\n",
    "  rename(\n",
    "    c(\n",
    "    'pillarName' = 'type',\n",
    "    'sectionName' = 'section',\n",
    "    'webTitle' = 'title',\n",
    "    'sectionId' = 'target'\n",
    "    )\n",
    "  )%>%\n",
    "  na.omit()\n",
    "\n",
    "news$target = as.factor(news$target)"
   ]
  },
  {
   "cell_type": "markdown",
   "metadata": {},
   "source": [
    "### Cleaning the body of the news"
   ]
  },
  {
   "cell_type": "code",
   "execution_count": 7,
   "metadata": {},
   "outputs": [],
   "source": [
    "abv = c(\"bn\",\"am\",\"pm\")\n",
    "rep = c(\"\",\"\",\"\")\n",
    "\n",
    "clean_function = function(data){\n",
    "  data = replace_html(data)\n",
    "  data = replace_tag(data)\n",
    "  data = replace_email(data)\n",
    "  data = replace_internet_slang(data)\n",
    "  data = replace_url(data)\n",
    "  data = str_replace_all(data, \"<.*?>\",\"\") \n",
    "  data = lapply(data, function(x) gsub(\"[[:punct:]]\",\" \",x))\n",
    "  data = str_replace_all(data, \" – \", \" \")\n",
    "  data = gsub(\"\\\"\", \" \", data)\n",
    "  data = removeNumbers(data)\n",
    "  data = gsub(\"\\\\b\\\\d+\\\\b\", \"\", data)\n",
    "  data = replace_curly_quote(data)\n",
    "  data = replace_symbol(data)\n",
    "  data = replace_abbreviation(data,abv,rep)\n",
    "  data = replace_abbreviation(data)\n",
    "  data = replace_word_elongation(data)\n",
    "  data = replace_contraction(data)\n",
    "  data = replace_incomplete(data)\n",
    "  data = iconv(data,from=\"UTF-8\",to=\"ASCII//TRANSLIT\")\n",
    "  data = tolower(data)\n",
    "  data = trimws(data)\n",
    "  data = str_squish(data)\n",
    "  data = str_replace_all(data, \"[^a-zA-Z\\\\s]\",\"\") \n",
    "}"
   ]
  },
  {
   "cell_type": "code",
   "execution_count": 8,
   "metadata": {},
   "outputs": [],
   "source": [
    "news$body = clean_function(news$body)"
   ]
  },
  {
   "cell_type": "code",
   "execution_count": 9,
   "metadata": {},
   "outputs": [],
   "source": [
    "news = na.omit(news)"
   ]
  },
  {
   "cell_type": "markdown",
   "metadata": {},
   "source": [
    "### Display the body of the news before and after cleaning"
   ]
  },
  {
   "cell_type": "code",
   "execution_count": 10,
   "metadata": {},
   "outputs": [
    {
     "name": "stdout",
     "output_type": "stream",
     "text": [
      "[1] \"Columns in the News data before cleaning:\"\n"
     ]
    },
    {
     "data": {
      "text/html": [
       "<ol class=list-inline>\n",
       "\t<li>'id'</li>\n",
       "\t<li>'type'</li>\n",
       "\t<li>'sectionId'</li>\n",
       "\t<li>'sectionName'</li>\n",
       "\t<li>'webPublicationDate'</li>\n",
       "\t<li>'webTitle'</li>\n",
       "\t<li>'webUrl'</li>\n",
       "\t<li>'apiUrl'</li>\n",
       "\t<li>'isHosted'</li>\n",
       "\t<li>'pillarId'</li>\n",
       "\t<li>'pillarName'</li>\n",
       "\t<li>'body'</li>\n",
       "</ol>\n"
      ],
      "text/latex": [
       "\\begin{enumerate*}\n",
       "\\item 'id'\n",
       "\\item 'type'\n",
       "\\item 'sectionId'\n",
       "\\item 'sectionName'\n",
       "\\item 'webPublicationDate'\n",
       "\\item 'webTitle'\n",
       "\\item 'webUrl'\n",
       "\\item 'apiUrl'\n",
       "\\item 'isHosted'\n",
       "\\item 'pillarId'\n",
       "\\item 'pillarName'\n",
       "\\item 'body'\n",
       "\\end{enumerate*}\n"
      ],
      "text/markdown": [
       "1. 'id'\n",
       "2. 'type'\n",
       "3. 'sectionId'\n",
       "4. 'sectionName'\n",
       "5. 'webPublicationDate'\n",
       "6. 'webTitle'\n",
       "7. 'webUrl'\n",
       "8. 'apiUrl'\n",
       "9. 'isHosted'\n",
       "10. 'pillarId'\n",
       "11. 'pillarName'\n",
       "12. 'body'\n",
       "\n",
       "\n"
      ],
      "text/plain": [
       " [1] \"id\"                 \"type\"               \"sectionId\"         \n",
       " [4] \"sectionName\"        \"webPublicationDate\" \"webTitle\"          \n",
       " [7] \"webUrl\"             \"apiUrl\"             \"isHosted\"          \n",
       "[10] \"pillarId\"           \"pillarName\"         \"body\"              "
      ]
     },
     "metadata": {},
     "output_type": "display_data"
    }
   ],
   "source": [
    "print(\"Columns in the News data before cleaning:\")\n",
    "names(news_data)"
   ]
  },
  {
   "cell_type": "code",
   "execution_count": 11,
   "metadata": {},
   "outputs": [
    {
     "name": "stdout",
     "output_type": "stream",
     "text": [
      "[1] \"Columns in the News data after cleaning:\"\n"
     ]
    },
    {
     "data": {
      "text/html": [
       "<ol class=list-inline>\n",
       "\t<li>'id'</li>\n",
       "\t<li>'type'</li>\n",
       "\t<li>'target'</li>\n",
       "\t<li>'section'</li>\n",
       "\t<li>'title'</li>\n",
       "\t<li>'body'</li>\n",
       "</ol>\n"
      ],
      "text/latex": [
       "\\begin{enumerate*}\n",
       "\\item 'id'\n",
       "\\item 'type'\n",
       "\\item 'target'\n",
       "\\item 'section'\n",
       "\\item 'title'\n",
       "\\item 'body'\n",
       "\\end{enumerate*}\n"
      ],
      "text/markdown": [
       "1. 'id'\n",
       "2. 'type'\n",
       "3. 'target'\n",
       "4. 'section'\n",
       "5. 'title'\n",
       "6. 'body'\n",
       "\n",
       "\n"
      ],
      "text/plain": [
       "[1] \"id\"      \"type\"    \"target\"  \"section\" \"title\"   \"body\"   "
      ]
     },
     "metadata": {},
     "output_type": "display_data"
    }
   ],
   "source": [
    "print(\"Columns in the News data after cleaning:\")\n",
    "names(news)"
   ]
  },
  {
   "cell_type": "code",
   "execution_count": 12,
   "metadata": {},
   "outputs": [
    {
     "name": "stdout",
     "output_type": "stream",
     "text": [
      "[1] \"Sample of Unclean News Article Body:\"\n",
      "<p>Goldman Sachs has been hit with two class action lawsuits on behalf  \n",
      "of investors who claim they were misled over the bank’s involvement     \n",
      "in the <a href=\"https://www.theguardian.com/business/2018/nov/09/       \n",
      "new-goldman-sachs-boss-faces-1mdb-fallout\">1MDB scandal</a>.</p>        \n",
      "<p>Two separate cases have been filed at district court in New York     \n",
      "over the past 48 hours by Pomerantz LLP and Rosen Law Firm. They        \n",
      "allege that Goldman Sachs failed to disclose its dealings in a fraud    \n",
      "and money laundering scheme around the Malaysian state development      \n",
      "fund to investors, who bought shares between 2014 and 2018.</p>         \n",
      "<p>The bank’s share price has fallen 29% since early November, when     \n",
      "reports started to link it with closer involvement in the scandal.</    \n",
      "p> <p>News reports claimed Lloyd Blankfein, who was the CEO and is      \n",
      "now chairman of Goldman Sachs, held initial meetings with Malaysian     \n",
      "financier Jho Low, who has been accused of masterminding the fraud.</   \n",
      "p> <p>Pomerantz and Rosen Law Firm have not disclosed how much they     \n",
      "are seeking in damages through their respective class action suits.</   \n",
      "p> <p>Goldman Sachs said in a statement: “The 1MDB bond offerings were  \n",
      "meant to raise money to benefit Malaysia; instead, a huge portion of    \n",
      "those funds were stolen for the benefit of members of the Malaysian     \n",
      "government and their associates. The lawsuits are without merit and we  \n",
      "intend to vigorously contest them.”</p> <p>It comes as <a href=\"https://\n",
      "www.theguardian.com/business/2018/dec/21/malaysia-seeks-75bn-damages-   \n",
      "from-goldman-over-1mdb-scandal\">Malaysia called for Goldman to pay      \n",
      "$7.5bn (£5.9bn)</a> in reparations over its dealings with the state     \n",
      "development fund, days after laying criminal charges against the bank.</\n",
      "p> <p>In an interview with the Financial Times, Malaysia’s finance      \n",
      "minister Lim Guan Eng said the bank should cover the $6.5bn (£5.1bn) it \n",
      "helped raise for 1MDB through three bond sales and shell out an extra   \n",
      "$1bn to cover the $600m it charged in fees for its work, and the bond   \n",
      "interest rates which were set higher than market standards.</p> <p>It   \n",
      "also emerged on Friday that <a href=\"https://www.bloomberg.com/news/    \n",
      "articles/2018-12-21/singapore-said-to-expand-1mdb-criminal-probe-to-    \n",
      "include-goldman\">Singapore has expanded a criminal investigation </     \n",
      "a>into 1MDB to include Goldman Sachs. Authorities are looking at whether\n",
      "the $600m in fees from the three bond deals arranged between 2012 and   \n",
      "2013 flowed through the bank’s Singapore subsidiary, Bloomberg reported,\n",
      "citing sources.</p> <p><a href=\"https://www.theguardian.com/world/      \n",
      "singapore\">Singapore</a> police declined to comment on the report.      \n",
      "Goldman said in a statement that it “continues to cooperate with all    \n",
      "authorities investigating this matter”.</p> <p>Earlier this week,       \n",
      "Malaysian prosecutors <a href=\"https://www.theguardian.com/world/2018/  \n",
      "dec/17/1mdb-scandal-malaysia-files-charges-against-goldman-sachs\">filed \n",
      "its own criminal charges against Goldman Sachs</a> and two of its former\n",
      "bankers, Tim Leissner and Roger Ng Chong Hwa, who are accused of helping\n",
      "misappropriate $2.7bn (£2.1bn), bribing officials and giving false      \n",
      "statements when helping to issue bonds.</p> <p>They are being charged   \n",
      "alongside Low and the former 1MDB employee Jasmine Loo Ai Swan.</p>     \n",
      "<p>US prosecutors allege that around $4bn (£3.2bn) eventually vanished  \n",
      "from 1MDB. They say the proceeds were used by conspirators to buy luxury\n",
      "real estate in New York and other prime locations, pricey artwork and   \n",
      "to fund the production of Hollywood films including The Wolf of Wall    \n",
      "Street.</p> <p>Goldman Sachs has consistently denied any wrongdoing     \n",
      "and insists it was lied to about how the proceeds of the bond sale were \n",
      "used.</p>                                                               \n"
     ]
    }
   ],
   "source": [
    "print(\"Sample of Unclean News Article Body:\")\n",
    "cat(stri_pad(stri_wrap(news_data$body[2]), side='right'), sep=\"\\n\")"
   ]
  },
  {
   "cell_type": "code",
   "execution_count": 13,
   "metadata": {},
   "outputs": [
    {
     "name": "stdout",
     "output_type": "stream",
     "text": [
      "[1] \"Sample of Clean News Article Body:\"\n",
      "goldman sachs has been hit with two class action lawsuits on behalf of  \n",
      "investors who claim they were misled over the banks involvement in the  \n",
      "mdb scandal two separate cases have been filed at district court in     \n",
      "new york over the past hours by pomerantz llp and rosen law firm they   \n",
      "allege that goldman sachs failed to disclose its dealings in a fraud    \n",
      "and money laundering scheme around the malaysian state develo ent fund  \n",
      "to investors who bought shares between and the banks share price has    \n",
      "fallen since early november when reports started to link it with closer \n",
      "involvement in the scandal news reports claimed lloyd blankfein who     \n",
      "was the ceo and is now chairman of goldman sachs held initial meetings  \n",
      "with malaysian financier jho low who has been accused of masterminding  \n",
      "the fraud pomerantz and rosen law firm have not disclosed how much      \n",
      "they are seeking in d ages through their respective class action suits  \n",
      "goldman sachs said in a statement the mdb bond offerings were meant to  \n",
      "raise money to benefit malaysia instead a huge portion of those funds   \n",
      "were stolen for the benefit of members of the malaysian government      \n",
      "and their associates the lawsuits are without merit and we intend to    \n",
      "vigorously contest them it comes as malaysia called for goldman to pay  \n",
      "in reparations over its dealings with the state develo ent fund days    \n",
      "after laying criminal charges against the bank in an interview with the \n",
      "financial times malaysias finance minister lim guan eng said the bank   \n",
      "should cover the it helped raise for mdb through three bond sales and   \n",
      "shell out an extra to cover the m it charged in fees for its work and   \n",
      "the bond interest rates which were set higher than market standards     \n",
      "it also emerged on friday that singapore has expanded a criminal        \n",
      "investigation into mdb to include goldman sachs authorities are looking \n",
      "at whether the m in fees from the three bond deals arranged between and \n",
      "flowed through the banks singapore subsidiary bloomberg reported citing \n",
      "sources singapore police declined to comment on the report goldman      \n",
      "said in a statement that it continues to cooperate with all authorities \n",
      "investigating this matter earlier this week malaysian prosecutors       \n",
      "filed its own criminal charges against goldman sachs and two of its     \n",
      "former bankers tim leissner and roger ng chong hwa who are accused of   \n",
      "helping misappropriate bribing officials and giving false statements    \n",
      "when helping to issue bonds they are being charged alongside low and    \n",
      "the former mdb employee jasmine loo ai swan us prosecutors allege that  \n",
      "around eventually vanished from mdb they say the proceeds were used     \n",
      "by conspirators to buy luxury real estate in new york and other prime   \n",
      "locations pricey artwork and to fund the production of hollywood films  \n",
      "including the wolf of wall street goldman sachs has consistently denied \n",
      "any wrongdoing and insists it was lied to about how the proceeds of the \n",
      "bond sale were used                                                     \n"
     ]
    }
   ],
   "source": [
    "print(\"Sample of Clean News Article Body:\")\n",
    "cat(stri_pad(stri_wrap(news$body[2]), side='right'), sep=\"\\n\")"
   ]
  },
  {
   "cell_type": "markdown",
   "metadata": {},
   "source": [
    "## Tokenization"
   ]
  },
  {
   "cell_type": "markdown",
   "metadata": {},
   "source": [
    "### Mixing the different sections"
   ]
  },
  {
   "cell_type": "code",
   "execution_count": 14,
   "metadata": {},
   "outputs": [
    {
     "name": "stdout",
     "output_type": "stream",
     "text": [
      "[1] \"Table before mixing the data\"\n",
      "   section type\n",
      "1 Business News\n",
      "2 Business News\n",
      "3 Business News\n",
      "4 Business News\n",
      "6 Business News\n",
      "7 Business News\n",
      "                                                                           title\n",
      "1                               Wall Street stocks suffer worst week in a decade\n",
      "2                   Goldman Sachs facing class action lawsuits over 1MDB scandal\n",
      "3 Interserve unveils plan to improve finances and quell 'next Carillion' anxiety\n",
      "4                       Super Saturday: retailers hope for £1.4bn surge in sales\n",
      "6                   Cash-strapped Britons keep spending but firms cut investment\n",
      "7                    Sale signs greet shoppers on busiest retail day of the year\n"
     ]
    }
   ],
   "source": [
    "select_data_before = select(news, c(\"section\",\"type\",\"title\"))\n",
    "print(\"Table before mixing the data\")\n",
    "print(head(select_data_before))"
   ]
  },
  {
   "cell_type": "code",
   "execution_count": 15,
   "metadata": {},
   "outputs": [
    {
     "name": "stdout",
     "output_type": "stream",
     "text": [
      "[1] \"Table after mixing the data\"\n",
      "        section  type\n",
      "3931 Technology  News\n",
      "3212 Technology  News\n",
      "4736      Sport Sport\n",
      "2007    Science  News\n",
      "5357       News  News\n",
      "994    Business  News\n",
      "                                                                                        title\n",
      "3931          'Killer robots': AI experts call for boycott over lab at South Korea university\n",
      "3212                   Surface Laptop 2 review: Microsoft's sleeker answer to the MacBook Air\n",
      "4736 Mark Wilson set for ‘dream’ start at No 8 for England against Springboks | Robert Kitson\n",
      "2007                   Farout: astronomers identify most distant known object in solar system\n",
      "5357                                                           Corrections and clarifications\n",
      "994                                 No-deal Brexit could tip UK into recession, warns Moody's\n"
     ]
    }
   ],
   "source": [
    "news_mix_samples = news[sample(nrow(news)),]\n",
    "select_data = select(news_mix_samples, c(\"section\",\"type\",\"title\"))\n",
    "\n",
    "print(\"Table after mixing the data\")\n",
    "print(head(select_data))"
   ]
  },
  {
   "cell_type": "markdown",
   "metadata": {},
   "source": [
    "### Stemming, Tokenisation, Word Count"
   ]
  },
  {
   "cell_type": "code",
   "execution_count": 16,
   "metadata": {},
   "outputs": [],
   "source": [
    "news_body = news_mix_samples$body\n",
    "tokenized_words = tokenize_word_stems(news_body, stopwords = stopwords::stopwords(\"en\"))\n",
    "word_count = sapply(tokenized_words,function(x){length(unlist(x))})\n",
    "word_count = as.data.frame(word_count)\n",
    "news_mix_samples = cbind(news_mix_samples,word_count)"
   ]
  },
  {
   "cell_type": "code",
   "execution_count": 17,
   "metadata": {},
   "outputs": [
    {
     "name": "stdout",
     "output_type": "stream",
     "text": [
      "[1] \"Table containing word count\"\n",
      "      type    section\n",
      "3931  News Technology\n",
      "3212  News Technology\n",
      "4736 Sport      Sport\n",
      "2007  News    Science\n",
      "5357  News       News\n",
      "994   News   Business\n",
      "                                                                                        title\n",
      "3931          'Killer robots': AI experts call for boycott over lab at South Korea university\n",
      "3212                   Surface Laptop 2 review: Microsoft's sleeker answer to the MacBook Air\n",
      "4736 Mark Wilson set for ‘dream’ start at No 8 for England against Springboks | Robert Kitson\n",
      "2007                   Farout: astronomers identify most distant known object in solar system\n",
      "5357                                                           Corrections and clarifications\n",
      "994                                 No-deal Brexit could tip UK into recession, warns Moody's\n",
      "     word_count\n",
      "3931        497\n",
      "3212        882\n",
      "4736        340\n",
      "2007        248\n",
      "5357         46\n",
      "994         309\n"
     ]
    }
   ],
   "source": [
    "news_word_count = select(news_mix_samples, c(\"type\",\"section\",\"title\",\"word_count\"))\n",
    "print(\"Table containing word count\")\n",
    "print(head(news_word_count))"
   ]
  },
  {
   "cell_type": "markdown",
   "metadata": {},
   "source": [
    "### Corpus of Words"
   ]
  },
  {
   "cell_type": "code",
   "execution_count": 18,
   "metadata": {},
   "outputs": [
    {
     "data": {
      "text/plain": [
       "<<SimpleCorpus>>\n",
       "Metadata:  corpus specific: 1, document level (indexed): 0\n",
       "Content:  documents: 5669"
      ]
     },
     "metadata": {},
     "output_type": "display_data"
    }
   ],
   "source": [
    "corpus_words = Corpus(VectorSource(tokenized_words))\n",
    "corpus_words"
   ]
  },
  {
   "cell_type": "markdown",
   "metadata": {},
   "source": [
    "### Term Document and Document Term Matrix"
   ]
  },
  {
   "cell_type": "code",
   "execution_count": 19,
   "metadata": {},
   "outputs": [
    {
     "name": "stdout",
     "output_type": "stream",
     "text": [
      "[1] \"Term Document Matrix\"\n",
      "<<TermDocumentMatrix (terms: 48330, documents: 5669)>>\n",
      "Non-/sparse entries: 1537750/272445020\n",
      "Sparsity           : 99%\n",
      "Maximal term length: 31\n",
      "Weighting          : term frequency (tf)\n",
      "Sample             :\n",
      "      Docs\n",
      "Terms  1111 2293 2447 2545 2848 3410 4825 5210 5509 982\n",
      "  c      10   15   14    5    7    6    5   10   41  21\n",
      "  can    20   20   24   19   32   26    6   12    6  23\n",
      "  e      18   13    7    5    8    6    5   12   17  20\n",
      "  may     2   71  155   22  116   92   24  142    1   7\n",
      "  one    44   16   28   16   22   25   10   15   30  43\n",
      "  s      19   27   21   27   38   31   12   19   15  74\n",
      "  said   38   38   41   58   63   51   40   49   34   1\n",
      "  say     4   90  198  105  135  154  122  119   13  15\n",
      "  time   27   14   19   13   41   29   29   15    8  14\n",
      "  year   34    9   25   18   20    9   17   17   27   4\n"
     ]
    }
   ],
   "source": [
    "print(\"Term Document Matrix\")\n",
    "tdm1 = TermDocumentMatrix(corpus_words,control=list(wordLengths=c(1,Inf)))\n",
    "inspect(tdm1)"
   ]
  },
  {
   "cell_type": "code",
   "execution_count": 20,
   "metadata": {},
   "outputs": [
    {
     "name": "stdout",
     "output_type": "stream",
     "text": [
      "[1] \"Document Term Matrix\"\n",
      "<<DocumentTermMatrix (documents: 5669, terms: 48330)>>\n",
      "Non-/sparse entries: 1537750/272445020\n",
      "Sparsity           : 99%\n",
      "Maximal term length: 31\n",
      "Weighting          : term frequency (tf)\n",
      "Sample             :\n",
      "      Terms\n",
      "Docs    c can  e may one  s said say time year\n",
      "  1111 10  20 18   2  44 19   38   4   27   34\n",
      "  2293 15  20 13  71  16 27   38  90   14    9\n",
      "  2447 14  24  7 155  28 21   41 198   19   25\n",
      "  2545  5  19  5  22  16 27   58 105   13   18\n",
      "  2848  7  32  8 116  22 38   63 135   41   20\n",
      "  3410  6  26  6  92  25 31   51 154   29    9\n",
      "  4825  5   6  5  24  10 12   40 122   29   17\n",
      "  5210 10  12 12 142  15 19   49 119   15   17\n",
      "  5509 41   6 17   1  30 15   34  13    8   27\n",
      "  982  21  23 20   7  43 74    1  15   14    4\n"
     ]
    }
   ],
   "source": [
    "print(\"Document Term Matrix\")\n",
    "dtm1 = DocumentTermMatrix(corpus_words,control=list(wordLengths=c(1,Inf)))\n",
    "inspect(dtm1)"
   ]
  },
  {
   "cell_type": "code",
   "execution_count": 21,
   "metadata": {},
   "outputs": [
    {
     "name": "stdout",
     "output_type": "stream",
     "text": [
      "[1] \"Term Document Matrix\"\n",
      "<<TermDocumentMatrix (terms: 45227, documents: 5669)>>\n",
      "Non-/sparse entries: 1352197/255039666\n",
      "Sparsity           : 99%\n",
      "Maximal term length: 31\n",
      "Weighting          : term frequency (tf)\n",
      "Sample             :\n",
      "         Docs\n",
      "Terms     1111 2293 2447 2545 2848 3410 4825 5061 5210 5509\n",
      "  also      14   17   12   12   22   23   21    7   10   16\n",
      "  brexit     0  113  100   92  178   93   73    0  103    0\n",
      "  compani   62    5    0    1    0    0    1    3    1    9\n",
      "  deal      13  106  128   48  114  168   78    1  102    2\n",
      "  like      25   13    8   13   18   17    8   15    8   11\n",
      "  peopl     35   28   40   22   15   34   19   24   32   24\n",
      "  said      38   38   41   58   63   51   40   44   49   34\n",
      "  time      27   14   19   13   41   29   29   13   15    8\n",
      "  work      12   17    5   12   23   16    8    7    5   21\n",
      "  year      34    9   25   18   20    9   17   11   17   27\n"
     ]
    }
   ],
   "source": [
    "print(\"Term Document Matrix\")\n",
    "tdm = TermDocumentMatrix(corpus_words,control=list(wordLengths=c(4,35)))\n",
    "inspect(tdm)\n",
    "tdm_df = as.data.frame(as.matrix(tdm), stringsAsFactors=False)"
   ]
  },
  {
   "cell_type": "code",
   "execution_count": 23,
   "metadata": {},
   "outputs": [
    {
     "name": "stdout",
     "output_type": "stream",
     "text": [
      "[1] \"Document Term Matrix\"\n",
      "<<DocumentTermMatrix (documents: 5669, terms: 45227)>>\n",
      "Non-/sparse entries: 1352197/255039666\n",
      "Sparsity           : 99%\n",
      "Maximal term length: 31\n",
      "Weighting          : term frequency (tf)\n",
      "Sample             :\n",
      "      Terms\n",
      "Docs   also brexit compani deal like peopl said time work year\n",
      "  1111   14      0      62   13   25    35   38   27   12   34\n",
      "  2293   17    113       5  106   13    28   38   14   17    9\n",
      "  2447   12    100       0  128    8    40   41   19    5   25\n",
      "  2545   12     92       1   48   13    22   58   13   12   18\n",
      "  2848   22    178       0  114   18    15   63   41   23   20\n",
      "  3410   23     93       0  168   17    34   51   29   16    9\n",
      "  4825   21     73       1   78    8    19   40   29    8   17\n",
      "  5061    7      0       3    1   15    24   44   13    7   11\n",
      "  5210   10    103       1  102    8    32   49   15    5   17\n",
      "  5509   16      0       9    2   11    24   34    8   21   27\n"
     ]
    }
   ],
   "source": [
    "print(\"Document Term Matrix\")\n",
    "dtm = DocumentTermMatrix(corpus_words,control=list(wordLengths=c(4,35)))\n",
    "inspect(dtm)"
   ]
  },
  {
   "cell_type": "code",
   "execution_count": 26,
   "metadata": {},
   "outputs": [
    {
     "data": {
      "text/html": [
       "<table>\n",
       "<thead><tr><th></th><th scope=col>abil</th><th scope=col>academ</th><th scope=col>acceler</th><th scope=col>accord</th><th scope=col>accuraci</th><th scope=col>acquisit</th><th scope=col>advanc</th><th scope=col>ahead</th><th scope=col>aircraft</th><th scope=col>algorithm</th><th scope=col>...</th><th scope=col>centr</th><th scope=col>certain</th><th scope=col>come</th><th scope=col>deliv</th><th scope=col>design</th><th scope=col>entir</th><th scope=col>even</th><th scope=col>better</th><th scope=col>competit</th><th scope=col>around</th></tr></thead>\n",
       "<tbody>\n",
       "\t<tr><th scope=row>2</th><td>0  </td><td>0  </td><td>0  </td><td>0  </td><td>0  </td><td>0  </td><td>0  </td><td>0  </td><td>0  </td><td>0  </td><td>...</td><td>1  </td><td>1  </td><td>1  </td><td>1  </td><td>1  </td><td>2  </td><td>2  </td><td>3  </td><td>3  </td><td>5  </td></tr>\n",
       "</tbody>\n",
       "</table>\n"
      ],
      "text/latex": [
       "\\begin{tabular}{r|llllllllllllllllllllllllllllllllllllllllllllllllllllllllllllllllllllllllllllllllllllllllllllllllllll}\n",
       "  & abil & academ & acceler & accord & accuraci & acquisit & advanc & ahead & aircraft & algorithm & ... & centr & certain & come & deliv & design & entir & even & better & competit & around\\\\\n",
       "\\hline\n",
       "\t2 & 0   & 0   & 0   & 0   & 0   & 0   & 0   & 0   & 0   & 0   & ... & 1   & 1   & 1   & 1   & 1   & 2   & 2   & 3   & 3   & 5  \\\\\n",
       "\\end{tabular}\n"
      ],
      "text/markdown": [
       "\n",
       "| <!--/--> | abil | academ | acceler | accord | accuraci | acquisit | advanc | ahead | aircraft | algorithm | ... | centr | certain | come | deliv | design | entir | even | better | competit | around | \n",
       "|---|\n",
       "| 2 | 0   | 0   | 0   | 0   | 0   | 0   | 0   | 0   | 0   | 0   | ... | 1   | 1   | 1   | 1   | 1   | 2   | 2   | 3   | 3   | 5   | \n",
       "\n",
       "\n"
      ],
      "text/plain": [
       "  abil academ acceler accord accuraci acquisit advanc ahead aircraft algorithm\n",
       "2 0    0      0       0      0        0        0      0     0        0        \n",
       "  ... centr certain come deliv design entir even better competit around\n",
       "2 ... 1     1       1    1     1      2     2    3      3        5     "
      ]
     },
     "metadata": {},
     "output_type": "display_data"
    }
   ],
   "source": [
    "dtm_df = as.data.frame(as.matrix(dtm), stringsAsFactors=False)\n",
    "sort(dtm_df[2,1:100])"
   ]
  },
  {
   "cell_type": "markdown",
   "metadata": {},
   "source": [
    "## Classification"
   ]
  },
  {
   "cell_type": "markdown",
   "metadata": {},
   "source": [
    "### Remove sparse terms from Document Term Matrix"
   ]
  },
  {
   "cell_type": "code",
   "execution_count": 27,
   "metadata": {},
   "outputs": [],
   "source": [
    "dtm = removeSparseTerms(dtm, 0.99)\n",
    "dtm_df = as.data.frame(as.matrix(dtm), stringsAsFactors=False)"
   ]
  },
  {
   "cell_type": "markdown",
   "metadata": {},
   "source": [
    "### Remove correlated terms from Document Term Matrix"
   ]
  },
  {
   "cell_type": "code",
   "execution_count": 28,
   "metadata": {},
   "outputs": [],
   "source": [
    "correlation_data = cor(dtm_df)\n",
    "highly_correlated_dtm = findCorrelation(correlation_data, cutoff=0.5)\n",
    "dtm = dtm[,-c(highly_correlated_dtm)]"
   ]
  },
  {
   "cell_type": "markdown",
   "metadata": {},
   "source": [
    "### Partition into train and test data"
   ]
  },
  {
   "cell_type": "code",
   "execution_count": 29,
   "metadata": {},
   "outputs": [],
   "source": [
    "index = createDataPartition(news_mix_samples$target, p = .8, list = FALSE, times = 1)"
   ]
  },
  {
   "cell_type": "code",
   "execution_count": 30,
   "metadata": {},
   "outputs": [
    {
     "name": "stdout",
     "output_type": "stream",
     "text": [
      "[1] \"Dimensions of table before splitting :\"\n"
     ]
    },
    {
     "data": {
      "text/html": [
       "<ol class=list-inline>\n",
       "\t<li>5669</li>\n",
       "\t<li>7</li>\n",
       "</ol>\n"
      ],
      "text/latex": [
       "\\begin{enumerate*}\n",
       "\\item 5669\n",
       "\\item 7\n",
       "\\end{enumerate*}\n"
      ],
      "text/markdown": [
       "1. 5669\n",
       "2. 7\n",
       "\n",
       "\n"
      ],
      "text/plain": [
       "[1] 5669    7"
      ]
     },
     "metadata": {},
     "output_type": "display_data"
    },
    {
     "name": "stdout",
     "output_type": "stream",
     "text": [
      "[1] \"Dimensions of training data :\"\n"
     ]
    },
    {
     "data": {
      "text/html": [
       "<ol class=list-inline>\n",
       "\t<li>4537</li>\n",
       "\t<li>7</li>\n",
       "</ol>\n"
      ],
      "text/latex": [
       "\\begin{enumerate*}\n",
       "\\item 4537\n",
       "\\item 7\n",
       "\\end{enumerate*}\n"
      ],
      "text/markdown": [
       "1. 4537\n",
       "2. 7\n",
       "\n",
       "\n"
      ],
      "text/plain": [
       "[1] 4537    7"
      ]
     },
     "metadata": {},
     "output_type": "display_data"
    },
    {
     "name": "stdout",
     "output_type": "stream",
     "text": [
      "[1] \"Dimensions of testing data :\"\n"
     ]
    },
    {
     "data": {
      "text/html": [
       "<ol class=list-inline>\n",
       "\t<li>1132</li>\n",
       "\t<li>7</li>\n",
       "</ol>\n"
      ],
      "text/latex": [
       "\\begin{enumerate*}\n",
       "\\item 1132\n",
       "\\item 7\n",
       "\\end{enumerate*}\n"
      ],
      "text/markdown": [
       "1. 1132\n",
       "2. 7\n",
       "\n",
       "\n"
      ],
      "text/plain": [
       "[1] 1132    7"
      ]
     },
     "metadata": {},
     "output_type": "display_data"
    }
   ],
   "source": [
    "train_data = news_mix_samples[index,]\n",
    "test_data = news_mix_samples[-index,]\n",
    "\n",
    "print(\"Dimensions of table before splitting :\")\n",
    "dim(news_mix_samples)\n",
    "\n",
    "print(\"Dimensions of training data :\")\n",
    "dim(train_data)\n",
    "\n",
    "print(\"Dimensions of testing data :\")\n",
    "dim(test_data)"
   ]
  },
  {
   "cell_type": "code",
   "execution_count": 31,
   "metadata": {},
   "outputs": [
    {
     "name": "stdout",
     "output_type": "stream",
     "text": [
      "[1] \"Data Proportition of Train: \"\n"
     ]
    },
    {
     "data": {
      "text/plain": [
       "train_labels\n",
       "  business       news   politics    science      sport technology \n",
       " 0.1668503  0.1728014  0.1672912  0.1701565  0.1553890  0.1675116 "
      ]
     },
     "metadata": {},
     "output_type": "display_data"
    },
    {
     "name": "stdout",
     "output_type": "stream",
     "text": [
      "[1] \"Data Proportition of Test: \"\n"
     ]
    },
    {
     "data": {
      "text/plain": [
       "test_labels\n",
       "  business       news   politics    science      sport technology \n",
       " 0.1669611  0.1722615  0.1669611  0.1704947  0.1554770  0.1678445 "
      ]
     },
     "metadata": {},
     "output_type": "display_data"
    }
   ],
   "source": [
    "train_labels = train_data$target\n",
    "test_labels = test_data$target\n",
    "\n",
    "print(\"Data Proportition of Train: \")\n",
    "prop.table(table(train_labels))\n",
    "\n",
    "print(\"Data Proportition of Test: \")\n",
    "prop.table(table(test_labels))"
   ]
  },
  {
   "cell_type": "code",
   "execution_count": 32,
   "metadata": {},
   "outputs": [
    {
     "name": "stdout",
     "output_type": "stream",
     "text": [
      "[1] \"Dimensions of document term matrix before splitting :\"\n"
     ]
    },
    {
     "data": {
      "text/html": [
       "<ol class=list-inline>\n",
       "\t<li>5669</li>\n",
       "\t<li>3110</li>\n",
       "</ol>\n"
      ],
      "text/latex": [
       "\\begin{enumerate*}\n",
       "\\item 5669\n",
       "\\item 3110\n",
       "\\end{enumerate*}\n"
      ],
      "text/markdown": [
       "1. 5669\n",
       "2. 3110\n",
       "\n",
       "\n"
      ],
      "text/plain": [
       "[1] 5669 3110"
      ]
     },
     "metadata": {},
     "output_type": "display_data"
    },
    {
     "name": "stdout",
     "output_type": "stream",
     "text": [
      "[1] \"Dimensions of document term matrix of training data :\"\n"
     ]
    },
    {
     "data": {
      "text/html": [
       "<ol class=list-inline>\n",
       "\t<li>4537</li>\n",
       "\t<li>3110</li>\n",
       "</ol>\n"
      ],
      "text/latex": [
       "\\begin{enumerate*}\n",
       "\\item 4537\n",
       "\\item 3110\n",
       "\\end{enumerate*}\n"
      ],
      "text/markdown": [
       "1. 4537\n",
       "2. 3110\n",
       "\n",
       "\n"
      ],
      "text/plain": [
       "[1] 4537 3110"
      ]
     },
     "metadata": {},
     "output_type": "display_data"
    },
    {
     "name": "stdout",
     "output_type": "stream",
     "text": [
      "[1] \"Dimensions of document term matrix of testing data :\"\n"
     ]
    },
    {
     "data": {
      "text/html": [
       "<ol class=list-inline>\n",
       "\t<li>1132</li>\n",
       "\t<li>3110</li>\n",
       "</ol>\n"
      ],
      "text/latex": [
       "\\begin{enumerate*}\n",
       "\\item 1132\n",
       "\\item 3110\n",
       "\\end{enumerate*}\n"
      ],
      "text/markdown": [
       "1. 1132\n",
       "2. 3110\n",
       "\n",
       "\n"
      ],
      "text/plain": [
       "[1] 1132 3110"
      ]
     },
     "metadata": {},
     "output_type": "display_data"
    }
   ],
   "source": [
    "dtm_train = dtm[index,]\n",
    "dtm_test = dtm[-index,]\n",
    "\n",
    "print(\"Dimensions of document term matrix before splitting :\")\n",
    "dim(dtm)\n",
    "\n",
    "print(\"Dimensions of document term matrix of training data :\")\n",
    "dim(dtm_train)\n",
    "\n",
    "print(\"Dimensions of document term matrix of testing data :\")\n",
    "dim(dtm_test)"
   ]
  },
  {
   "cell_type": "code",
   "execution_count": 33,
   "metadata": {},
   "outputs": [
    {
     "name": "stdout",
     "output_type": "stream",
     "text": [
      "[1] \"Dimensions of term document matrix before splitting :\"\n"
     ]
    },
    {
     "data": {
      "text/html": [
       "<ol class=list-inline>\n",
       "\t<li>45227</li>\n",
       "\t<li>5669</li>\n",
       "</ol>\n"
      ],
      "text/latex": [
       "\\begin{enumerate*}\n",
       "\\item 45227\n",
       "\\item 5669\n",
       "\\end{enumerate*}\n"
      ],
      "text/markdown": [
       "1. 45227\n",
       "2. 5669\n",
       "\n",
       "\n"
      ],
      "text/plain": [
       "[1] 45227  5669"
      ]
     },
     "metadata": {},
     "output_type": "display_data"
    },
    {
     "name": "stdout",
     "output_type": "stream",
     "text": [
      "[1] \"Dimensions of term document matrix of training data :\"\n"
     ]
    },
    {
     "data": {
      "text/html": [
       "<ol class=list-inline>\n",
       "\t<li>4537</li>\n",
       "\t<li>5669</li>\n",
       "</ol>\n"
      ],
      "text/latex": [
       "\\begin{enumerate*}\n",
       "\\item 4537\n",
       "\\item 5669\n",
       "\\end{enumerate*}\n"
      ],
      "text/markdown": [
       "1. 4537\n",
       "2. 5669\n",
       "\n",
       "\n"
      ],
      "text/plain": [
       "[1] 4537 5669"
      ]
     },
     "metadata": {},
     "output_type": "display_data"
    },
    {
     "name": "stdout",
     "output_type": "stream",
     "text": [
      "[1] \"Dimensions of term document matrix of testing data :\"\n"
     ]
    },
    {
     "data": {
      "text/html": [
       "<ol class=list-inline>\n",
       "\t<li>40690</li>\n",
       "\t<li>5669</li>\n",
       "</ol>\n"
      ],
      "text/latex": [
       "\\begin{enumerate*}\n",
       "\\item 40690\n",
       "\\item 5669\n",
       "\\end{enumerate*}\n"
      ],
      "text/markdown": [
       "1. 40690\n",
       "2. 5669\n",
       "\n",
       "\n"
      ],
      "text/plain": [
       "[1] 40690  5669"
      ]
     },
     "metadata": {},
     "output_type": "display_data"
    }
   ],
   "source": [
    "tdm_train = tdm[index,]\n",
    "tdm_test = tdm[-index,]\n",
    "\n",
    "print(\"Dimensions of term document matrix before splitting :\")\n",
    "dim(tdm)\n",
    "\n",
    "print(\"Dimensions of term document matrix of training data :\")\n",
    "dim(tdm_train)\n",
    "\n",
    "print(\"Dimensions of term document matrix of testing data :\")\n",
    "dim(tdm_test)"
   ]
  },
  {
   "cell_type": "markdown",
   "metadata": {},
   "source": [
    "### Naive Bayes Classification Function"
   ]
  },
  {
   "cell_type": "code",
   "execution_count": 34,
   "metadata": {},
   "outputs": [],
   "source": [
    "classification = function(dtm_train_yes_no,dtm_test_yes_no,train_labels,test_labels){\n",
    "  \n",
    "naive_bayes = naiveBayes(dtm_train_yes_no,train_labels,laplace = 1)\n",
    "naive_test_predictions = predict(naive_bayes,dtm_test_yes_no)\n",
    "\n",
    "confusion_matrix <- confusionMatrix(naive_test_predictions, test_labels)\n",
    "\n",
    "print(confusion_matrix)\n",
    "\n",
    "cm_table = confusion_matrix$table\n",
    "\n",
    "accuracy = sum(diag(cm_table)) / sum(cm_table)\n",
    "precision = diag(cm_table) / rowSums(cm_table)\n",
    "recall = diag(cm_table) / colSums(cm_table)\n",
    "\n",
    "cat(\"\\n\")\n",
    "\n",
    "print(paste(\"Accuracy: \",accuracy*100))\n",
    "\n",
    "print(\"Recall: \")\n",
    "print(paste(\"Recall for business: \",recall[\"business\"]))\n",
    "print(paste(\"Recall for politics: \",recall[\"politics\"]))\n",
    "print(paste(\"Recall for science: \",recall[\"science\"]))\n",
    "print(paste(\"Recall for technology: \",recall[\"technology\"]))\n",
    "print(paste(\"Recall for sport: \",recall[\"sport\"]))\n",
    "print(paste(\"Recall for news: \",recall[\"news\"]))\n",
    "\n",
    "print(\"Precision: \")\n",
    "print(paste(\"Precision for business: \",precision[\"business\"]))\n",
    "print(paste(\"Precision for politics: \",precision[\"politics\"]))\n",
    "print(paste(\"Precision for science: \",precision[\"science\"]))\n",
    "print(paste(\"Precision for technology: \",precision[\"technology\"]))\n",
    "print(paste(\"Precision for sport: \",precision[\"sport\"]))\n",
    "print(paste(\"Precision for news: \",precision[\"news\"]))\n",
    "\n",
    "}"
   ]
  },
  {
   "cell_type": "markdown",
   "metadata": {},
   "source": [
    "### Feature Selection Function"
   ]
  },
  {
   "cell_type": "code",
   "execution_count": 35,
   "metadata": {},
   "outputs": [],
   "source": [
    "convert_yes_no = function(x) {\n",
    "  x = ifelse(x>0, \"Yes\",\"No\")\n",
    "}"
   ]
  },
  {
   "cell_type": "code",
   "execution_count": 36,
   "metadata": {},
   "outputs": [],
   "source": [
    "feature_based = function(freq_words){\n",
    "  dtm_train_freq = dtm_train[,freq_words]\n",
    "  dtm_test_freq = dtm_test[,freq_words]\n",
    "  dtm_train_yes_no = apply(dtm_train_freq,2,convert_yes_no)\n",
    "  dtm_test_yes_no = apply(dtm_test_freq,2,convert_yes_no)\n",
    "  classification(dtm_train_yes_no,dtm_test_yes_no,train_labels,test_labels)\n",
    "}"
   ]
  },
  {
   "cell_type": "markdown",
   "metadata": {},
   "source": [
    "### Naive Bayes for different features"
   ]
  },
  {
   "cell_type": "code",
   "execution_count": 37,
   "metadata": {},
   "outputs": [
    {
     "name": "stdout",
     "output_type": "stream",
     "text": [
      "[1] \"Naive Bayes using 1 most frequently occuring words\"\n",
      "Confusion Matrix and Statistics\n",
      "\n",
      "            Reference\n",
      "Prediction   business news politics science sport technology\n",
      "  business        153    4       17       0     1         19\n",
      "  news             16  158       28      38     5         30\n",
      "  politics          8   11      142       1     0          1\n",
      "  science           1    5        1     147     0         10\n",
      "  sport             1    5        0       0   168          2\n",
      "  technology       10   12        1       7     2        128\n",
      "\n",
      "Overall Statistics\n",
      "                                          \n",
      "               Accuracy : 0.7915          \n",
      "                 95% CI : (0.7667, 0.8148)\n",
      "    No Information Rate : 0.1723          \n",
      "    P-Value [Acc > NIR] : < 2.2e-16       \n",
      "                                          \n",
      "                  Kappa : 0.7497          \n",
      " Mcnemar's Test P-Value : NA              \n",
      "\n",
      "Statistics by Class:\n",
      "\n",
      "                     Class: business Class: news Class: politics Class: science\n",
      "Sensitivity                   0.8095      0.8103          0.7513         0.7617\n",
      "Specificity                   0.9565      0.8751          0.9777         0.9819\n",
      "Pos Pred Value                0.7887      0.5745          0.8712         0.8963\n",
      "Neg Pred Value                0.9616      0.9568          0.9515         0.9525\n",
      "Prevalence                    0.1670      0.1723          0.1670         0.1705\n",
      "Detection Rate                0.1352      0.1396          0.1254         0.1299\n",
      "Detection Prevalence          0.1714      0.2429          0.1440         0.1449\n",
      "Balanced Accuracy             0.8830      0.8427          0.8645         0.8718\n",
      "                     Class: sport Class: technology\n",
      "Sensitivity                0.9545            0.6737\n",
      "Specificity                0.9916            0.9660\n",
      "Pos Pred Value             0.9545            0.8000\n",
      "Neg Pred Value             0.9916            0.9362\n",
      "Prevalence                 0.1555            0.1678\n",
      "Detection Rate             0.1484            0.1131\n",
      "Detection Prevalence       0.1555            0.1413\n",
      "Balanced Accuracy          0.9731            0.8199\n",
      "\n",
      "[1] \"Accuracy:  79.1519434628975\"\n",
      "[1] \"Recall: \"\n",
      "[1] \"Recall for business:  0.80952380952381\"\n",
      "[1] \"Recall for politics:  0.751322751322751\"\n",
      "[1] \"Recall for science:  0.761658031088083\"\n",
      "[1] \"Recall for technology:  0.673684210526316\"\n",
      "[1] \"Recall for sport:  0.954545454545455\"\n",
      "[1] \"Recall for news:  0.81025641025641\"\n",
      "[1] \"Precision: \"\n",
      "[1] \"Precision for business:  0.788659793814433\"\n",
      "[1] \"Precision for politics:  0.871165644171779\"\n",
      "[1] \"Precision for science:  0.896341463414634\"\n",
      "[1] \"Precision for technology:  0.8\"\n",
      "[1] \"Precision for sport:  0.954545454545455\"\n",
      "[1] \"Precision for news:  0.574545454545455\"\n"
     ]
    }
   ],
   "source": [
    "print(\"Naive Bayes using 1 most frequently occuring words\")\n",
    "freq_words1 = findFreqTerms(dtm_train,1)\n",
    "feature_based(freq_words1)"
   ]
  },
  {
   "cell_type": "code",
   "execution_count": 38,
   "metadata": {},
   "outputs": [
    {
     "name": "stdout",
     "output_type": "stream",
     "text": [
      "[1] \"Naive Bayes using 3 most frequently occuring words\"\n",
      "Confusion Matrix and Statistics\n",
      "\n",
      "            Reference\n",
      "Prediction   business news politics science sport technology\n",
      "  business        153    4       17       0     1         19\n",
      "  news             16  158       28      38     5         30\n",
      "  politics          8   11      142       1     0          1\n",
      "  science           1    5        1     147     0         10\n",
      "  sport             1    5        0       0   168          2\n",
      "  technology       10   12        1       7     2        128\n",
      "\n",
      "Overall Statistics\n",
      "                                          \n",
      "               Accuracy : 0.7915          \n",
      "                 95% CI : (0.7667, 0.8148)\n",
      "    No Information Rate : 0.1723          \n",
      "    P-Value [Acc > NIR] : < 2.2e-16       \n",
      "                                          \n",
      "                  Kappa : 0.7497          \n",
      " Mcnemar's Test P-Value : NA              \n",
      "\n",
      "Statistics by Class:\n",
      "\n",
      "                     Class: business Class: news Class: politics Class: science\n",
      "Sensitivity                   0.8095      0.8103          0.7513         0.7617\n",
      "Specificity                   0.9565      0.8751          0.9777         0.9819\n",
      "Pos Pred Value                0.7887      0.5745          0.8712         0.8963\n",
      "Neg Pred Value                0.9616      0.9568          0.9515         0.9525\n",
      "Prevalence                    0.1670      0.1723          0.1670         0.1705\n",
      "Detection Rate                0.1352      0.1396          0.1254         0.1299\n",
      "Detection Prevalence          0.1714      0.2429          0.1440         0.1449\n",
      "Balanced Accuracy             0.8830      0.8427          0.8645         0.8718\n",
      "                     Class: sport Class: technology\n",
      "Sensitivity                0.9545            0.6737\n",
      "Specificity                0.9916            0.9660\n",
      "Pos Pred Value             0.9545            0.8000\n",
      "Neg Pred Value             0.9916            0.9362\n",
      "Prevalence                 0.1555            0.1678\n",
      "Detection Rate             0.1484            0.1131\n",
      "Detection Prevalence       0.1555            0.1413\n",
      "Balanced Accuracy          0.9731            0.8199\n",
      "\n",
      "[1] \"Accuracy:  79.1519434628975\"\n",
      "[1] \"Recall: \"\n",
      "[1] \"Recall for business:  0.80952380952381\"\n",
      "[1] \"Recall for politics:  0.751322751322751\"\n",
      "[1] \"Recall for science:  0.761658031088083\"\n",
      "[1] \"Recall for technology:  0.673684210526316\"\n",
      "[1] \"Recall for sport:  0.954545454545455\"\n",
      "[1] \"Recall for news:  0.81025641025641\"\n",
      "[1] \"Precision: \"\n",
      "[1] \"Precision for business:  0.788659793814433\"\n",
      "[1] \"Precision for politics:  0.871165644171779\"\n",
      "[1] \"Precision for science:  0.896341463414634\"\n",
      "[1] \"Precision for technology:  0.8\"\n",
      "[1] \"Precision for sport:  0.954545454545455\"\n",
      "[1] \"Precision for news:  0.574545454545455\"\n"
     ]
    }
   ],
   "source": [
    "print(\"Naive Bayes using 3 most frequently occuring words\")\n",
    "freq_words2 = findFreqTerms(dtm_train,3)\n",
    "feature_based(freq_words2)"
   ]
  },
  {
   "cell_type": "code",
   "execution_count": 39,
   "metadata": {},
   "outputs": [
    {
     "name": "stdout",
     "output_type": "stream",
     "text": [
      "[1] \"Naive Bayes using 5 most frequently occuring words\"\n",
      "Confusion Matrix and Statistics\n",
      "\n",
      "            Reference\n",
      "Prediction   business news politics science sport technology\n",
      "  business        153    4       17       0     1         19\n",
      "  news             16  158       28      38     5         30\n",
      "  politics          8   11      142       1     0          1\n",
      "  science           1    5        1     147     0         10\n",
      "  sport             1    5        0       0   168          2\n",
      "  technology       10   12        1       7     2        128\n",
      "\n",
      "Overall Statistics\n",
      "                                          \n",
      "               Accuracy : 0.7915          \n",
      "                 95% CI : (0.7667, 0.8148)\n",
      "    No Information Rate : 0.1723          \n",
      "    P-Value [Acc > NIR] : < 2.2e-16       \n",
      "                                          \n",
      "                  Kappa : 0.7497          \n",
      " Mcnemar's Test P-Value : NA              \n",
      "\n",
      "Statistics by Class:\n",
      "\n",
      "                     Class: business Class: news Class: politics Class: science\n",
      "Sensitivity                   0.8095      0.8103          0.7513         0.7617\n",
      "Specificity                   0.9565      0.8751          0.9777         0.9819\n",
      "Pos Pred Value                0.7887      0.5745          0.8712         0.8963\n",
      "Neg Pred Value                0.9616      0.9568          0.9515         0.9525\n",
      "Prevalence                    0.1670      0.1723          0.1670         0.1705\n",
      "Detection Rate                0.1352      0.1396          0.1254         0.1299\n",
      "Detection Prevalence          0.1714      0.2429          0.1440         0.1449\n",
      "Balanced Accuracy             0.8830      0.8427          0.8645         0.8718\n",
      "                     Class: sport Class: technology\n",
      "Sensitivity                0.9545            0.6737\n",
      "Specificity                0.9916            0.9660\n",
      "Pos Pred Value             0.9545            0.8000\n",
      "Neg Pred Value             0.9916            0.9362\n",
      "Prevalence                 0.1555            0.1678\n",
      "Detection Rate             0.1484            0.1131\n",
      "Detection Prevalence       0.1555            0.1413\n",
      "Balanced Accuracy          0.9731            0.8199\n",
      "\n",
      "[1] \"Accuracy:  79.1519434628975\"\n",
      "[1] \"Recall: \"\n",
      "[1] \"Recall for business:  0.80952380952381\"\n",
      "[1] \"Recall for politics:  0.751322751322751\"\n",
      "[1] \"Recall for science:  0.761658031088083\"\n",
      "[1] \"Recall for technology:  0.673684210526316\"\n",
      "[1] \"Recall for sport:  0.954545454545455\"\n",
      "[1] \"Recall for news:  0.81025641025641\"\n",
      "[1] \"Precision: \"\n",
      "[1] \"Precision for business:  0.788659793814433\"\n",
      "[1] \"Precision for politics:  0.871165644171779\"\n",
      "[1] \"Precision for science:  0.896341463414634\"\n",
      "[1] \"Precision for technology:  0.8\"\n",
      "[1] \"Precision for sport:  0.954545454545455\"\n",
      "[1] \"Precision for news:  0.574545454545455\"\n"
     ]
    }
   ],
   "source": [
    "print(\"Naive Bayes using 5 most frequently occuring words\")\n",
    "freq_words3 = findFreqTerms(dtm_train,5)\n",
    "feature_based(freq_words3)"
   ]
  },
  {
   "cell_type": "code",
   "execution_count": 40,
   "metadata": {},
   "outputs": [
    {
     "name": "stdout",
     "output_type": "stream",
     "text": [
      "[1] \"Naive Bayes using 10 most frequently occuring words\"\n",
      "Confusion Matrix and Statistics\n",
      "\n",
      "            Reference\n",
      "Prediction   business news politics science sport technology\n",
      "  business        153    4       17       0     1         19\n",
      "  news             16  158       28      38     5         30\n",
      "  politics          8   11      142       1     0          1\n",
      "  science           1    5        1     147     0         10\n",
      "  sport             1    5        0       0   168          2\n",
      "  technology       10   12        1       7     2        128\n",
      "\n",
      "Overall Statistics\n",
      "                                          \n",
      "               Accuracy : 0.7915          \n",
      "                 95% CI : (0.7667, 0.8148)\n",
      "    No Information Rate : 0.1723          \n",
      "    P-Value [Acc > NIR] : < 2.2e-16       \n",
      "                                          \n",
      "                  Kappa : 0.7497          \n",
      " Mcnemar's Test P-Value : NA              \n",
      "\n",
      "Statistics by Class:\n",
      "\n",
      "                     Class: business Class: news Class: politics Class: science\n",
      "Sensitivity                   0.8095      0.8103          0.7513         0.7617\n",
      "Specificity                   0.9565      0.8751          0.9777         0.9819\n",
      "Pos Pred Value                0.7887      0.5745          0.8712         0.8963\n",
      "Neg Pred Value                0.9616      0.9568          0.9515         0.9525\n",
      "Prevalence                    0.1670      0.1723          0.1670         0.1705\n",
      "Detection Rate                0.1352      0.1396          0.1254         0.1299\n",
      "Detection Prevalence          0.1714      0.2429          0.1440         0.1449\n",
      "Balanced Accuracy             0.8830      0.8427          0.8645         0.8718\n",
      "                     Class: sport Class: technology\n",
      "Sensitivity                0.9545            0.6737\n",
      "Specificity                0.9916            0.9660\n",
      "Pos Pred Value             0.9545            0.8000\n",
      "Neg Pred Value             0.9916            0.9362\n",
      "Prevalence                 0.1555            0.1678\n",
      "Detection Rate             0.1484            0.1131\n",
      "Detection Prevalence       0.1555            0.1413\n",
      "Balanced Accuracy          0.9731            0.8199\n",
      "\n",
      "[1] \"Accuracy:  79.1519434628975\"\n",
      "[1] \"Recall: \"\n",
      "[1] \"Recall for business:  0.80952380952381\"\n",
      "[1] \"Recall for politics:  0.751322751322751\"\n",
      "[1] \"Recall for science:  0.761658031088083\"\n",
      "[1] \"Recall for technology:  0.673684210526316\"\n",
      "[1] \"Recall for sport:  0.954545454545455\"\n",
      "[1] \"Recall for news:  0.81025641025641\"\n",
      "[1] \"Precision: \"\n",
      "[1] \"Precision for business:  0.788659793814433\"\n",
      "[1] \"Precision for politics:  0.871165644171779\"\n",
      "[1] \"Precision for science:  0.896341463414634\"\n",
      "[1] \"Precision for technology:  0.8\"\n",
      "[1] \"Precision for sport:  0.954545454545455\"\n",
      "[1] \"Precision for news:  0.574545454545455\"\n"
     ]
    }
   ],
   "source": [
    "print(\"Naive Bayes using 10 most frequently occuring words\")\n",
    "freq_words4 = findFreqTerms(dtm_train,10)\n",
    "feature_based(freq_words4)"
   ]
  },
  {
   "cell_type": "code",
   "execution_count": 41,
   "metadata": {},
   "outputs": [
    {
     "name": "stdout",
     "output_type": "stream",
     "text": [
      "[1] \"Naive Bayes using 100 most frequently occuring words\"\n",
      "Confusion Matrix and Statistics\n",
      "\n",
      "            Reference\n",
      "Prediction   business news politics science sport technology\n",
      "  business        154    5       17       0     2         20\n",
      "  news             17  159       31      36     5         31\n",
      "  politics          8   11      139       1     0          1\n",
      "  science           1    4        1     147     0          8\n",
      "  sport             1    5        0       0   168          2\n",
      "  technology        8   11        1       9     1        128\n",
      "\n",
      "Overall Statistics\n",
      "                                         \n",
      "               Accuracy : 0.7906         \n",
      "                 95% CI : (0.7658, 0.814)\n",
      "    No Information Rate : 0.1723         \n",
      "    P-Value [Acc > NIR] : < 2.2e-16      \n",
      "                                         \n",
      "                  Kappa : 0.7486         \n",
      " Mcnemar's Test P-Value : NA             \n",
      "\n",
      "Statistics by Class:\n",
      "\n",
      "                     Class: business Class: news Class: politics Class: science\n",
      "Sensitivity                   0.8148      0.8154          0.7354         0.7617\n",
      "Specificity                   0.9533      0.8719          0.9777         0.9851\n",
      "Pos Pred Value                0.7778      0.5699          0.8687         0.9130\n",
      "Neg Pred Value                0.9625      0.9578          0.9486         0.9526\n",
      "Prevalence                    0.1670      0.1723          0.1670         0.1705\n",
      "Detection Rate                0.1360      0.1405          0.1228         0.1299\n",
      "Detection Prevalence          0.1749      0.2465          0.1413         0.1422\n",
      "Balanced Accuracy             0.8841      0.8437          0.8566         0.8734\n",
      "                     Class: sport Class: technology\n",
      "Sensitivity                0.9545            0.6737\n",
      "Specificity                0.9916            0.9682\n",
      "Pos Pred Value             0.9545            0.8101\n",
      "Neg Pred Value             0.9916            0.9363\n",
      "Prevalence                 0.1555            0.1678\n",
      "Detection Rate             0.1484            0.1131\n",
      "Detection Prevalence       0.1555            0.1396\n",
      "Balanced Accuracy          0.9731            0.8209\n",
      "\n",
      "[1] \"Accuracy:  79.0636042402827\"\n",
      "[1] \"Recall: \"\n",
      "[1] \"Recall for business:  0.814814814814815\"\n",
      "[1] \"Recall for politics:  0.735449735449735\"\n",
      "[1] \"Recall for science:  0.761658031088083\"\n",
      "[1] \"Recall for technology:  0.673684210526316\"\n",
      "[1] \"Recall for sport:  0.954545454545455\"\n",
      "[1] \"Recall for news:  0.815384615384615\"\n",
      "[1] \"Precision: \"\n",
      "[1] \"Precision for business:  0.777777777777778\"\n",
      "[1] \"Precision for politics:  0.86875\"\n",
      "[1] \"Precision for science:  0.91304347826087\"\n",
      "[1] \"Precision for technology:  0.810126582278481\"\n",
      "[1] \"Precision for sport:  0.954545454545455\"\n",
      "[1] \"Precision for news:  0.56989247311828\"\n"
     ]
    }
   ],
   "source": [
    "print(\"Naive Bayes using 100 most frequently occuring words\")\n",
    "freq_words5 = findFreqTerms(dtm_train,100)\n",
    "feature_based(freq_words5)"
   ]
  },
  {
   "cell_type": "code",
   "execution_count": 42,
   "metadata": {},
   "outputs": [
    {
     "name": "stdout",
     "output_type": "stream",
     "text": [
      "[1] \"Naive Bayes using 500 most frequently occuring words\"\n",
      "Confusion Matrix and Statistics\n",
      "\n",
      "            Reference\n",
      "Prediction   business news politics science sport technology\n",
      "  business        147    3       17       0     2         22\n",
      "  news             19  154       33      42     6         38\n",
      "  politics          7   15      133       1     0          0\n",
      "  science           2    4        3     133     0          7\n",
      "  sport             1    4        1       3   165          2\n",
      "  technology       13   15        2      14     3        121\n",
      "\n",
      "Overall Statistics\n",
      "                                          \n",
      "               Accuracy : 0.7535          \n",
      "                 95% CI : (0.7273, 0.7784)\n",
      "    No Information Rate : 0.1723          \n",
      "    P-Value [Acc > NIR] : < 2.2e-16       \n",
      "                                          \n",
      "                  Kappa : 0.7041          \n",
      " Mcnemar's Test P-Value : 1.308e-10       \n",
      "\n",
      "Statistics by Class:\n",
      "\n",
      "                     Class: business Class: news Class: politics Class: science\n",
      "Sensitivity                   0.7778      0.7897          0.7037         0.6891\n",
      "Specificity                   0.9533      0.8527          0.9756         0.9830\n",
      "Pos Pred Value                0.7696      0.5274          0.8526         0.8926\n",
      "Neg Pred Value                0.9554      0.9512          0.9426         0.9390\n",
      "Prevalence                    0.1670      0.1723          0.1670         0.1705\n",
      "Detection Rate                0.1299      0.1360          0.1175         0.1175\n",
      "Detection Prevalence          0.1687      0.2580          0.1378         0.1316\n",
      "Balanced Accuracy             0.8656      0.8212          0.8397         0.8360\n",
      "                     Class: sport Class: technology\n",
      "Sensitivity                0.9375            0.6368\n",
      "Specificity                0.9885            0.9501\n",
      "Pos Pred Value             0.9375            0.7202\n",
      "Neg Pred Value             0.9885            0.9284\n",
      "Prevalence                 0.1555            0.1678\n",
      "Detection Rate             0.1458            0.1069\n",
      "Detection Prevalence       0.1555            0.1484\n",
      "Balanced Accuracy          0.9630            0.7935\n",
      "\n",
      "[1] \"Accuracy:  75.3533568904594\"\n",
      "[1] \"Recall: \"\n",
      "[1] \"Recall for business:  0.777777777777778\"\n",
      "[1] \"Recall for politics:  0.703703703703704\"\n",
      "[1] \"Recall for science:  0.689119170984456\"\n",
      "[1] \"Recall for technology:  0.636842105263158\"\n",
      "[1] \"Recall for sport:  0.9375\"\n",
      "[1] \"Recall for news:  0.78974358974359\"\n",
      "[1] \"Precision: \"\n",
      "[1] \"Precision for business:  0.769633507853403\"\n",
      "[1] \"Precision for politics:  0.852564102564103\"\n",
      "[1] \"Precision for science:  0.89261744966443\"\n",
      "[1] \"Precision for technology:  0.720238095238095\"\n",
      "[1] \"Precision for sport:  0.9375\"\n",
      "[1] \"Precision for news:  0.527397260273973\"\n"
     ]
    }
   ],
   "source": [
    "print(\"Naive Bayes using 500 most frequently occuring words\")\n",
    "freq_words6 = findFreqTerms(dtm_train,500)\n",
    "feature_based(freq_words6)"
   ]
  },
  {
   "cell_type": "code",
   "execution_count": 43,
   "metadata": {},
   "outputs": [
    {
     "name": "stdout",
     "output_type": "stream",
     "text": [
      "[1] \"Naive Bayes using 1000 most frequently occuring words\"\n",
      "Confusion Matrix and Statistics\n",
      "\n",
      "            Reference\n",
      "Prediction   business news politics science sport technology\n",
      "  business        138    3       12       0     1         21\n",
      "  news             21  150       38      47    12         48\n",
      "  politics         11   17      129       1     2          3\n",
      "  science           3    5        5     129     0          8\n",
      "  sport             2    5        3       4   157          3\n",
      "  technology       14   15        2      12     4        107\n",
      "\n",
      "Overall Statistics\n",
      "                                          \n",
      "               Accuracy : 0.7155          \n",
      "                 95% CI : (0.6883, 0.7417)\n",
      "    No Information Rate : 0.1723          \n",
      "    P-Value [Acc > NIR] : < 2.2e-16       \n",
      "                                          \n",
      "                  Kappa : 0.6584          \n",
      " Mcnemar's Test P-Value : 1.974e-12       \n",
      "\n",
      "Statistics by Class:\n",
      "\n",
      "                     Class: business Class: news Class: politics Class: science\n",
      "Sensitivity                   0.7302      0.7692          0.6825         0.6684\n",
      "Specificity                   0.9608      0.8228          0.9639         0.9776\n",
      "Pos Pred Value                0.7886      0.4747          0.7914         0.8600\n",
      "Neg Pred Value                0.9467      0.9449          0.9381         0.9348\n",
      "Prevalence                    0.1670      0.1723          0.1670         0.1705\n",
      "Detection Rate                0.1219      0.1325          0.1140         0.1140\n",
      "Detection Prevalence          0.1546      0.2792          0.1440         0.1325\n",
      "Balanced Accuracy             0.8455      0.7960          0.8232         0.8230\n",
      "                     Class: sport Class: technology\n",
      "Sensitivity                0.8920           0.56316\n",
      "Specificity                0.9822           0.95011\n",
      "Pos Pred Value             0.9023           0.69481\n",
      "Neg Pred Value             0.9802           0.91513\n",
      "Prevalence                 0.1555           0.16784\n",
      "Detection Rate             0.1387           0.09452\n",
      "Detection Prevalence       0.1537           0.13604\n",
      "Balanced Accuracy          0.9371           0.75663\n",
      "\n",
      "[1] \"Accuracy:  71.5547703180212\"\n",
      "[1] \"Recall: \"\n",
      "[1] \"Recall for business:  0.73015873015873\"\n",
      "[1] \"Recall for politics:  0.682539682539683\"\n",
      "[1] \"Recall for science:  0.66839378238342\"\n",
      "[1] \"Recall for technology:  0.563157894736842\"\n",
      "[1] \"Recall for sport:  0.892045454545455\"\n",
      "[1] \"Recall for news:  0.769230769230769\"\n",
      "[1] \"Precision: \"\n",
      "[1] \"Precision for business:  0.788571428571429\"\n",
      "[1] \"Precision for politics:  0.791411042944785\"\n",
      "[1] \"Precision for science:  0.86\"\n",
      "[1] \"Precision for technology:  0.694805194805195\"\n",
      "[1] \"Precision for sport:  0.902298850574713\"\n",
      "[1] \"Precision for news:  0.474683544303797\"\n"
     ]
    }
   ],
   "source": [
    "print(\"Naive Bayes using 1000 most frequently occuring words\")\n",
    "freq_words7 = findFreqTerms(dtm_train,1000)\n",
    "feature_based(freq_words7)"
   ]
  },
  {
   "cell_type": "markdown",
   "metadata": {},
   "source": [
    "As the number of frequently occuring words increases, accuracy decreases"
   ]
  },
  {
   "cell_type": "markdown",
   "metadata": {},
   "source": [
    "## Word Clouds"
   ]
  },
  {
   "cell_type": "markdown",
   "metadata": {},
   "source": [
    "### Complete Data"
   ]
  },
  {
   "cell_type": "code",
   "execution_count": 44,
   "metadata": {},
   "outputs": [
    {
     "data": {
      "image/png": "[encoded data removed]",
      "text/plain": [
       "plot without title"
      ]
     },
     "metadata": {},
     "output_type": "display_data"
    }
   ],
   "source": [
    "m1 = tdm_df\n",
    "v1 = sort(rowSums(m1),decreasing = TRUE)\n",
    "d1 = data.frame(word = names(v1),freq =v1)\n",
    "\n",
    "wordcloud(words = d1$word, freq = d1$freq, min.freq = 1,\n",
    "          scale=c(5,0.5), use.r.layout=FALSE,\n",
    "          max.words=60, random.order=FALSE, rot.per=0.35, \n",
    "          colors=brewer.pal(8, \"Dark2\"))"
   ]
  },
  {
   "cell_type": "markdown",
   "metadata": {},
   "source": [
    "### Train Data"
   ]
  },
  {
   "cell_type": "code",
   "execution_count": 45,
   "metadata": {},
   "outputs": [
    {
     "data": {
      "image/png": "[encoded data removed]",
      "text/plain": [
       "plot without title"
      ]
     },
     "metadata": {},
     "output_type": "display_data"
    }
   ],
   "source": [
    "m2 = as.data.frame(as.matrix(tdm_train), stringsAsFactors=False)\n",
    "v2 = sort(rowSums(m2),decreasing = TRUE)\n",
    "d2 = data.frame(word = names(v2),freq =v2)\n",
    "\n",
    "wordcloud(words = d2$word, freq = d2$freq, min.freq = 1,\n",
    "          scale=c(5,0.5), use.r.layout=FALSE,\n",
    "          max.words=60, random.order=FALSE, rot.per=0.35, \n",
    "          colors=brewer.pal(8, \"Dark2\"))"
   ]
  },
  {
   "cell_type": "markdown",
   "metadata": {},
   "source": [
    "### Test Data"
   ]
  },
  {
   "cell_type": "code",
   "execution_count": 46,
   "metadata": {},
   "outputs": [
    {
     "data": {
      "image/png": "[encoded data removed]",
      "text/plain": [
       "plot without title"
      ]
     },
     "metadata": {},
     "output_type": "display_data"
    }
   ],
   "source": [
    "m3 = as.data.frame(as.matrix(tdm_test), stringsAsFactors=False)\n",
    "v3 = sort(rowSums(m3),decreasing = TRUE)\n",
    "d3 = data.frame(word = names(v3),freq =v3)\n",
    "\n",
    "wordcloud(words = d3$word, freq = d3$freq, min.freq = 1,\n",
    "          scale=c(5,0.5), use.r.layout=FALSE,\n",
    "          max.words=60, random.order=FALSE, rot.per=0.35, \n",
    "          colors=brewer.pal(8, \"Dark2\"))"
   ]
  }
 ],
 "metadata": {
  "kernelspec": {
   "display_name": "R",
   "language": "R",
   "name": "ir"
  },
  "language_info": {
   "codemirror_mode": "r",
   "file_extension": ".r",
   "mimetype": "text/x-r-source",
   "name": "R",
   "pygments_lexer": "r",
   "version": "3.5.1"
  }
 },
 "nbformat": 4,
 "nbformat_minor": 2
}
